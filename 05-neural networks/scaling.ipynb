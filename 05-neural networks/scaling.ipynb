{
 "cells": [
  {
   "cell_type": "markdown",
   "metadata": {},
   "source": [
    "# How do I scale my data?\n",
    "If you have some data for a neural network, there is a delicate balance between weights, inputs, and activation functions.  So, typically, we like our data to be normalised, around 0.\n",
    "\n",
    "But what does normalised mean?  Here we show four different approaches.\n",
    "\n",
    "This file is (c) Patrick van der Smagt, July 2018.  Please do not distribute without his written consent."
   ]
  },
  {
   "cell_type": "code",
   "execution_count": null,
   "metadata": {},
   "outputs": [],
   "source": [
    "# verified on anaconda python 3\n",
    "from sklearn.preprocessing import normalize,scale\n",
    "import numpy as np\n",
    "import matplotlib.pyplot as plt\n",
    "%matplotlib inline"
   ]
  },
  {
   "cell_type": "code",
   "execution_count": null,
   "metadata": {},
   "outputs": [],
   "source": [
    "x = np.arange(10000) / 1000. \n",
    "z = 100*(np.sin(x)*(1+0.1*np.random.laplace(0,1,10000)*np.random.laplace(0,1,10000)*np.random.laplace(0,1,10000)))+400\n",
    "print(np.amax(z), np.amin(z))\n",
    "plt.plot(z)"
   ]
  },
  {
   "cell_type": "code",
   "execution_count": null,
   "metadata": {},
   "outputs": [],
   "source": [
    "a = 2 * (z - np.amin(z)) / (np.amax(z) - np.amin(z)) - 1\n",
    "print(np.amax(a), np.amin(a))\n",
    "plt.plot(a)"
   ]
  },
  {
   "cell_type": "code",
   "execution_count": null,
   "metadata": {},
   "outputs": [],
   "source": [
    "b = normalize([z], axis=1, norm='l1')\n",
    "print(np.amax(b), np.amin(b))\n",
    "plt.plot(b[0,:]);"
   ]
  },
  {
   "cell_type": "code",
   "execution_count": null,
   "metadata": {},
   "outputs": [],
   "source": [
    "c = normalize([z], axis=1, norm='l2')\n",
    "print(np.amax(c), np.amin(c))\n",
    "plt.plot(c[0,]);"
   ]
  },
  {
   "cell_type": "code",
   "execution_count": null,
   "metadata": {},
   "outputs": [],
   "source": [
    "e = scale(z, axis=0) \n",
    "plt.plot(e)"
   ]
  },
  {
   "cell_type": "code",
   "execution_count": null,
   "metadata": {},
   "outputs": [],
   "source": []
  }
 ],
 "metadata": {
  "kernelspec": {
   "display_name": "Python 3",
   "language": "python",
   "name": "python3"
  },
  "language_info": {
   "codemirror_mode": {
    "name": "ipython",
    "version": 3
   },
   "file_extension": ".py",
   "mimetype": "text/x-python",
   "name": "python",
   "nbconvert_exporter": "python",
   "pygments_lexer": "ipython3",
   "version": "3.6.4"
  }
 },
 "nbformat": 4,
 "nbformat_minor": 1
}
