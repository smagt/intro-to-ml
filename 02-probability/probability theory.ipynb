{
 "cells": [
  {
   "cell_type": "markdown",
   "metadata": {},
   "source": [
    "# Probability Theory\n",
    "\n",
    "Probability is basically about relations: the number of results for a particular result, divided by the total number of results.  Python offers a fitting data type."
   ]
  },
  {
   "cell_type": "code",
   "execution_count": null,
   "metadata": {},
   "outputs": [],
   "source": [
    "import fractions"
   ]
  },
  {
   "cell_type": "markdown",
   "metadata": {},
   "source": [
    "Let us first look at all events, called the *event set*.  We start at looking at a die with 6 faces."
   ]
  },
  {
   "cell_type": "code",
   "execution_count": null,
   "metadata": {},
   "outputs": [],
   "source": [
    "dice_events = set([1, 2, 3, 4, 5, 6])"
   ]
  },
  {
   "cell_type": "markdown",
   "metadata": {},
   "source": [
    "We can now define a random variable as a function on the event set."
   ]
  },
  {
   "cell_type": "code",
   "execution_count": null,
   "metadata": {},
   "outputs": [],
   "source": [
    "def even(x):\n",
    "    \"\"\"Return True if x is an even number.\"\"\"\n",
    "    return x % 2 == 0"
   ]
  },
  {
   "cell_type": "markdown",
   "metadata": {},
   "source": [
    "Let's look what the set of all even numbers looks like.  For that we use a so-called \"Set comprehension\"."
   ]
  },
  {
   "cell_type": "code",
   "execution_count": null,
   "metadata": {},
   "outputs": [],
   "source": [
    "{e for e in dice_events if even(e)} # cool syntax which Python is known for"
   ]
  },
  {
   "cell_type": "markdown",
   "metadata": {},
   "source": [
    "To compute a probability, we use a \"fraction\" object."
   ]
  },
  {
   "cell_type": "code",
   "execution_count": null,
   "metadata": {},
   "outputs": [],
   "source": [
    "p_odd = fractions.Fraction(len({e for e in dice_events if even(e)}), len(dice_events))\n",
    "print (p_odd)"
   ]
  },
  {
   "cell_type": "markdown",
   "metadata": {},
   "source": [
    "But the following is shorter, simpler:"
   ]
  },
  {
   "cell_type": "code",
   "execution_count": null,
   "metadata": {},
   "outputs": [],
   "source": [
    "len({e for e in dice_events if even(e)})*1. / len(dice_events)"
   ]
  },
  {
   "cell_type": "markdown",
   "metadata": {},
   "source": [
    "In a more general form, this may be a solution:"
   ]
  },
  {
   "cell_type": "code",
   "execution_count": null,
   "metadata": {},
   "outputs": [],
   "source": [
    "def p(events, predicate):\n",
    "    \"\"\"Given a set of events, return the fraction of events for which ``predicate`` \n",
    "    returns True.\"\"\"\n",
    "    positive_events = {e for e in events if predicate(e)}\n",
    "    return fractions.Fraction(len(positive_events), len(events))"
   ]
  },
  {
   "cell_type": "code",
   "execution_count": null,
   "metadata": {},
   "outputs": [],
   "source": [
    "print (p(dice_events, even))"
   ]
  },
  {
   "cell_type": "markdown",
   "metadata": {},
   "source": [
    "### Conditional probability\n",
    "\n",
    "To compute a conditional probability, we just take the results for which the condition holds, and take those as \"virtual\" event set.\n",
    "\n",
    "We use it to compute the probability that, if we throw a 4, we already know we throw an even number."
   ]
  },
  {
   "cell_type": "code",
   "execution_count": null,
   "metadata": {},
   "outputs": [],
   "source": [
    "def cond(events, condition, predicate):\n",
    "    \"\"\"Given a set of events return the fraction of events for which \n",
    "    predicate returns true over all events for which condition \n",
    "    returns True.\"\"\"\n",
    "    reduced_events = {e for e in events if condition(e)}\n",
    "    positive_events = {e for e in reduced_events if predicate(e)}\n",
    "    return fractions.Fraction(len(positive_events), len(reduced_events))"
   ]
  },
  {
   "cell_type": "code",
   "execution_count": null,
   "metadata": {},
   "outputs": [],
   "source": [
    "print (cond(dice_events, even, lambda x: x == 4))"
   ]
  },
  {
   "cell_type": "markdown",
   "metadata": {},
   "source": [
    "### Joint Probability\n",
    "\n",
    "The joint probability can be written as\n",
    "$$\n",
    "p(x, y) = p(x|y)p(y)\n",
    "$$\n",
    "\n",
    "We use it to compute the probability of throwing a prime number, if we already know we threw an even number.\n",
    "\n",
    "2 is the only even prime number.  Therefore the probability is $\\frac{1}{6}$."
   ]
  },
  {
   "cell_type": "code",
   "execution_count": null,
   "metadata": {},
   "outputs": [],
   "source": [
    "def prime(e):\n",
    "    \"\"\"Tell if a number is a prime number.\"\"\"\n",
    "    return e in set([2, 3, 5])    # Though quite efficient, it does not work for most numbers."
   ]
  },
  {
   "cell_type": "code",
   "execution_count": null,
   "metadata": {},
   "outputs": [],
   "source": [
    "p_prime = p(dice_events, prime)\n",
    "p_even_given_prime = cond(dice_events, prime, even)\n",
    "\n",
    "print (p_prime * p_even_given_prime)"
   ]
  },
  {
   "cell_type": "markdown",
   "metadata": {},
   "source": [
    "### Marginal probability\n",
    "\n",
    "$$\n",
    "p(x) = \\sum_y p(x|y)p(y)\n",
    "$$\n",
    "\n",
    "We compute the probability that a number is even, using the previously computed probabilities for even and prime.\n",
    "\n",
    "For that we need to ignore a predicate.  We do that with a higher-order function: a function which takes a function as argument."
   ]
  },
  {
   "cell_type": "code",
   "execution_count": null,
   "metadata": {},
   "outputs": [],
   "source": [
    "def neg(predicate):\n",
    "    def inner(e):\n",
    "        return not predicate(e)\n",
    "    return inner\n",
    "\n",
    "not_prime = neg(prime)"
   ]
  },
  {
   "cell_type": "code",
   "execution_count": null,
   "metadata": {},
   "outputs": [],
   "source": [
    "p_not_prime = p(dice_events, not_prime)\n",
    "p_even_given_not_prime = cond(dice_events, not_prime, even)\n",
    "even_via_marginal = p_prime * p_even_given_prime + p_not_prime * p_even_given_not_prime\n",
    "print (even_via_marginal)"
   ]
  },
  {
   "cell_type": "markdown",
   "metadata": {},
   "source": [
    "## Gauss variables"
   ]
  },
  {
   "cell_type": "markdown",
   "metadata": {},
   "source": [
    "### central limit theorem\n",
    "\n",
    "The distribution of the sum of many independent variables is Gauss.  For that we simulate $N$ dice."
   ]
  },
  {
   "cell_type": "code",
   "execution_count": null,
   "metadata": {},
   "outputs": [],
   "source": [
    "import numpy as np\n",
    "import matplotlib.pyplot as plt\n",
    "%matplotlib inline"
   ]
  },
  {
   "cell_type": "code",
   "execution_count": null,
   "metadata": {},
   "outputs": [],
   "source": [
    "N = 1\n",
    "dice_rolls = np.random.randint(1, 6, (10000, N))\n",
    "roll_sums = dice_rolls.sum(1)\n",
    "_ = plt.hist(roll_sums,bins=100)"
   ]
  },
  {
   "cell_type": "code",
   "execution_count": null,
   "metadata": {},
   "outputs": [],
   "source": [
    "N = 5\n",
    "dice_rolls = np.random.randint(1, 6, (10000, N))\n",
    "roll_sums = dice_rolls.sum(1)\n",
    "_ = plt.hist(roll_sums, bins=100)"
   ]
  },
  {
   "cell_type": "code",
   "execution_count": null,
   "metadata": {},
   "outputs": [],
   "source": [
    "N = 1000\n",
    "dice_rolls = np.random.randint(1, 6, (10000, N))\n",
    "roll_sums = dice_rolls.sum(1)\n",
    "_ = plt.hist(roll_sums, bins=100)"
   ]
  },
  {
   "cell_type": "code",
   "execution_count": null,
   "metadata": {},
   "outputs": [],
   "source": [
    "N = 5000\n",
    "dice_rolls = np.random.randint(1, 6, (10000, N))\n",
    "roll_sums = dice_rolls.sum(1)\n",
    "_ = plt.hist(roll_sums, bins=100)"
   ]
  },
  {
   "cell_type": "markdown",
   "metadata": {},
   "source": [
    "## Sums of Gauss variables are Gauss"
   ]
  },
  {
   "cell_type": "code",
   "execution_count": null,
   "metadata": {},
   "outputs": [],
   "source": [
    "X = np.random.normal(3, 1., 10000)\n",
    "Y = np.random.normal(-3, 1., 10000)\n",
    "Z = X + Y"
   ]
  },
  {
   "cell_type": "code",
   "execution_count": null,
   "metadata": {},
   "outputs": [],
   "source": [
    "_ = plt.hist(X, bins=100)\n",
    "_ = plt.hist(Y, bins=100)\n",
    "_ = plt.hist(Z, bins=100, alpha=.7)"
   ]
  }
 ],
 "metadata": {
  "kernelspec": {
   "display_name": "Python 3",
   "language": "python",
   "name": "python3"
  },
  "language_info": {
   "codemirror_mode": {
    "name": "ipython",
    "version": 3
   },
   "file_extension": ".py",
   "mimetype": "text/x-python",
   "name": "python",
   "nbconvert_exporter": "python",
   "pygments_lexer": "ipython3",
   "version": "3.9.16"
  }
 },
 "nbformat": 4,
 "nbformat_minor": 1
}
